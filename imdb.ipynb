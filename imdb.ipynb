{
 "cells": [
  {
   "cell_type": "code",
   "execution_count": 119,
   "metadata": {},
   "outputs": [],
   "source": [
    "from bs4 import BeautifulSoup\n",
    "\n",
    "import urllib.request\n",
    "import csv\n",
    "import json\n",
    "import pandas as pd\n",
    "from datetime import datetime"
   ]
  },
  {
   "cell_type": "code",
   "execution_count": 2,
   "metadata": {},
   "outputs": [],
   "source": [
    "urlpage = 'https://www.imdb.com/title/tt2560140/episodes?year=2019'"
   ]
  },
  {
   "cell_type": "code",
   "execution_count": 3,
   "metadata": {},
   "outputs": [],
   "source": [
    "page = urllib.request.urlopen(urlpage)\n",
    "soup = BeautifulSoup(page, 'html.parser')"
   ]
  },
  {
   "cell_type": "code",
   "execution_count": 4,
   "metadata": {},
   "outputs": [],
   "source": [
    "# print(soup)"
   ]
  },
  {
   "cell_type": "code",
   "execution_count": 5,
   "metadata": {},
   "outputs": [],
   "source": [
    "test = soup.find_all('div', attrs={'class': 'item_description'})"
   ]
  },
  {
   "cell_type": "code",
   "execution_count": 6,
   "metadata": {},
   "outputs": [
    {
     "name": "stdout",
     "output_type": "stream",
     "text": [
      "\n",
      "    The operation to retake Wall Maria commences in Shiganshina, the town where everything began. But when the Scouts arrive, something seems very wrong.    \n",
      "\n",
      "    Against a rush of enemies, the Scouts scramble to defend their horses. But despite falling into a trap, they have their own surprise for the Armored Titan.    \n",
      "\n",
      "    Though their Thunder Spears prove effective, the Scouts' celebration is short-lived as disaster descends upon Shiganshina.    \n",
      "\n",
      "    While one front is rained on by flames, the other is battered by boulders. With no way out and limited options, the Scouts are forced to fight against the Titans with little hope left.    \n",
      "\n",
      "    As Erwin's heroic charge buys Levi time to confront the Beast Titan, Armin comes up with a plan of his own that lays it all on the line.    \n",
      "\n",
      "    As the battle for Shiganshina draws to a close, Eren meets a mysterious figure, and a fierce conflict breaks out within the remaining Scouts over who is to receive the injection and be revived.    \n",
      "\n",
      "  Know what this is about?\n",
      " Be the first one to add a plot.\n",
      " \n",
      "\n",
      "  Know what this is about?\n",
      " Be the first one to add a plot.\n",
      " \n",
      "\n",
      "  Know what this is about?\n",
      " Be the first one to add a plot.\n",
      " \n",
      "\n",
      "  Know what this is about?\n",
      " Be the first one to add a plot.\n",
      " \n"
     ]
    }
   ],
   "source": [
    "for t in test:\n",
    "    intro = t.getText()\n",
    "    print(intro)"
   ]
  },
  {
   "cell_type": "code",
   "execution_count": 120,
   "metadata": {},
   "outputs": [
    {
     "data": {
      "text/plain": [
       "['The Town Where Everything Began',\n",
       " 'Thunder Spears',\n",
       " 'Descent',\n",
       " 'Perfect Game',\n",
       " 'Hero',\n",
       " 'Midnight Sun',\n",
       " 'The Basement',\n",
       " 'Episode #3.20',\n",
       " 'Episode #3.21',\n",
       " 'Episode #3.22']"
      ]
     },
     "execution_count": 120,
     "metadata": {},
     "output_type": "execute_result"
    }
   ],
   "source": [
    "episodes_bs = soup.find_all('a', attrs={'itemprop': 'name'})\n",
    "\n",
    "episodes = list()\n",
    "for e in episodes_bs:\n",
    "    episodes.append(e.get('title'))\n",
    "    \n",
    "episodes"
   ]
  },
  {
   "cell_type": "code",
   "execution_count": 121,
   "metadata": {},
   "outputs": [
    {
     "data": {
      "text/plain": [
       "[2078, 1970, 1995, 3218, 13314]"
      ]
     },
     "execution_count": 121,
     "metadata": {},
     "output_type": "execute_result"
    }
   ],
   "source": [
    "votes_bs = soup.find_all('span', attrs={'class': 'ipl-rating-star__total-votes'})\n",
    "\n",
    "votes = list()\n",
    "\n",
    "for v in votes_bs:\n",
    "    temp = v.getText()\n",
    "    temp = temp.replace('(', '')\n",
    "    temp = temp.replace(')', '')\n",
    "    temp = temp.replace(',', '')\n",
    "    votes.append(int(temp))\n",
    "\n",
    "votes"
   ]
  },
  {
   "cell_type": "code",
   "execution_count": 122,
   "metadata": {},
   "outputs": [
    {
     "data": {
      "text/plain": [
       "[9.6, 9.6, 9.6, 9.8, 9.9]"
      ]
     },
     "execution_count": 122,
     "metadata": {},
     "output_type": "execute_result"
    }
   ],
   "source": [
    "rating_bs = soup.find_all('span', attrs={'class': 'ipl-rating-star__rating'})\n",
    "\n",
    "rating = list()\n",
    "for r in rating_bs:\n",
    "    temp = r.getText()\n",
    "    try:\n",
    "        float(temp)\n",
    "    except ValueError:\n",
    "        pass\n",
    "    else:\n",
    "        if len(temp) == 3:\n",
    "            rating.append(float(temp))\n",
    "rating"
   ]
  },
  {
   "cell_type": "code",
   "execution_count": 179,
   "metadata": {},
   "outputs": [
    {
     "data": {
      "text/html": [
       "<div>\n",
       "<style scoped>\n",
       "    .dataframe tbody tr th:only-of-type {\n",
       "        vertical-align: middle;\n",
       "    }\n",
       "\n",
       "    .dataframe tbody tr th {\n",
       "        vertical-align: top;\n",
       "    }\n",
       "\n",
       "    .dataframe thead th {\n",
       "        text-align: right;\n",
       "    }\n",
       "</style>\n",
       "<table border=\"1\" class=\"dataframe\">\n",
       "  <thead>\n",
       "    <tr style=\"text-align: right;\">\n",
       "      <th></th>\n",
       "      <th>dates</th>\n",
       "      <th>episodes</th>\n",
       "      <th>votes</th>\n",
       "      <th>rating</th>\n",
       "    </tr>\n",
       "  </thead>\n",
       "  <tbody>\n",
       "    <tr>\n",
       "      <th>0</th>\n",
       "      <td>19-05-31</td>\n",
       "      <td>The Town Where Everything Began</td>\n",
       "      <td>2078</td>\n",
       "      <td>9.6</td>\n",
       "    </tr>\n",
       "    <tr>\n",
       "      <th>1</th>\n",
       "      <td>19-05-31</td>\n",
       "      <td>Thunder Spears</td>\n",
       "      <td>1970</td>\n",
       "      <td>9.6</td>\n",
       "    </tr>\n",
       "    <tr>\n",
       "      <th>2</th>\n",
       "      <td>19-05-31</td>\n",
       "      <td>Descent</td>\n",
       "      <td>1995</td>\n",
       "      <td>9.6</td>\n",
       "    </tr>\n",
       "    <tr>\n",
       "      <th>3</th>\n",
       "      <td>19-05-31</td>\n",
       "      <td>Perfect Game</td>\n",
       "      <td>3218</td>\n",
       "      <td>9.8</td>\n",
       "    </tr>\n",
       "    <tr>\n",
       "      <th>4</th>\n",
       "      <td>19-05-31</td>\n",
       "      <td>Hero</td>\n",
       "      <td>13314</td>\n",
       "      <td>9.9</td>\n",
       "    </tr>\n",
       "    <tr>\n",
       "      <th>5</th>\n",
       "      <td>19-05-31</td>\n",
       "      <td>Midnight Sun</td>\n",
       "      <td>0</td>\n",
       "      <td>0.0</td>\n",
       "    </tr>\n",
       "    <tr>\n",
       "      <th>6</th>\n",
       "      <td>19-05-31</td>\n",
       "      <td>The Basement</td>\n",
       "      <td>0</td>\n",
       "      <td>0.0</td>\n",
       "    </tr>\n",
       "    <tr>\n",
       "      <th>7</th>\n",
       "      <td>19-05-31</td>\n",
       "      <td>Episode #3.20</td>\n",
       "      <td>0</td>\n",
       "      <td>0.0</td>\n",
       "    </tr>\n",
       "    <tr>\n",
       "      <th>8</th>\n",
       "      <td>19-05-31</td>\n",
       "      <td>Episode #3.21</td>\n",
       "      <td>0</td>\n",
       "      <td>0.0</td>\n",
       "    </tr>\n",
       "    <tr>\n",
       "      <th>9</th>\n",
       "      <td>19-05-31</td>\n",
       "      <td>Episode #3.22</td>\n",
       "      <td>0</td>\n",
       "      <td>0.0</td>\n",
       "    </tr>\n",
       "  </tbody>\n",
       "</table>\n",
       "</div>"
      ],
      "text/plain": [
       "      dates                         episodes  votes  rating\n",
       "0  19-05-31  The Town Where Everything Began   2078     9.6\n",
       "1  19-05-31                   Thunder Spears   1970     9.6\n",
       "2  19-05-31                          Descent   1995     9.6\n",
       "3  19-05-31                     Perfect Game   3218     9.8\n",
       "4  19-05-31                             Hero  13314     9.9\n",
       "5  19-05-31                     Midnight Sun      0     0.0\n",
       "6  19-05-31                     The Basement      0     0.0\n",
       "7  19-05-31                    Episode #3.20      0     0.0\n",
       "8  19-05-31                    Episode #3.21      0     0.0\n",
       "9  19-05-31                    Episode #3.22      0     0.0"
      ]
     },
     "execution_count": 179,
     "metadata": {},
     "output_type": "execute_result"
    }
   ],
   "source": [
    "df = pd.DataFrame(columns = ['dates', 'episodes', 'votes', 'rating'])\n",
    "\n",
    "date_request = datetime.now().strftime('%y-%m-%d')\n",
    "\n",
    "df['episodes'] = episodes\n",
    "df['votes'][:len(votes)] = votes\n",
    "df['rating'][:len(rating)] = rating\n",
    "df['dates'] = date_request\n",
    "\n",
    "df = df.fillna(0)\n",
    "\n",
    "df"
   ]
  },
  {
   "cell_type": "code",
   "execution_count": 180,
   "metadata": {},
   "outputs": [],
   "source": [
    "df.to_csv(date_request+' imdb ah.csv', index=False)"
   ]
  },
  {
   "cell_type": "code",
   "execution_count": null,
   "metadata": {},
   "outputs": [],
   "source": []
  }
 ],
 "metadata": {
  "kernelspec": {
   "display_name": "Python 3",
   "language": "python",
   "name": "python3"
  },
  "language_info": {
   "codemirror_mode": {
    "name": "ipython",
    "version": 3
   },
   "file_extension": ".py",
   "mimetype": "text/x-python",
   "name": "python",
   "nbconvert_exporter": "python",
   "pygments_lexer": "ipython3",
   "version": "3.7.3"
  }
 },
 "nbformat": 4,
 "nbformat_minor": 2
}
