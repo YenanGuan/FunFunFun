{
 "cells": [
  {
   "cell_type": "code",
   "execution_count": 1,
   "metadata": {},
   "outputs": [],
   "source": [
    "from bs4 import BeautifulSoup\n",
    "\n",
    "import urllib.request\n",
    "import csv\n",
    "import pandas as pd\n",
    "from datetime import datetime"
   ]
  },
  {
   "cell_type": "code",
   "execution_count": 2,
   "metadata": {},
   "outputs": [],
   "source": [
    "urlpage = 'https://www.imdb.com/title/tt2560140/episodes?year=2019'\n",
    "\n",
    "page = urllib.request.urlopen(urlpage)\n",
    "soup = BeautifulSoup(page, 'html.parser')"
   ]
  },
  {
   "cell_type": "code",
   "execution_count": 3,
   "metadata": {},
   "outputs": [],
   "source": [
    "episodes = [e.get('title')\n",
    "           for e in soup.find_all('a', attrs={'itemprop': 'name'})]"
   ]
  },
  {
   "cell_type": "code",
   "execution_count": 4,
   "metadata": {},
   "outputs": [],
   "source": [
    "votes = [v1.getText() \n",
    "         for v1 in soup.find_all('span', attrs={'class': 'ipl-rating-star__total-votes'})]\n",
    "\n",
    "for r in ['(', ')', ',']:\n",
    "    votes = [v2.replace(r, '') for v2 in votes]"
   ]
  },
  {
   "cell_type": "code",
   "execution_count": 5,
   "metadata": {},
   "outputs": [],
   "source": [
    "rating_bs = soup.find_all('span', attrs={'class': 'ipl-rating-star__rating'})\n",
    "\n",
    "rating = list()\n",
    "for r in rating_bs:\n",
    "    temp = r.getText()\n",
    "    try:\n",
    "        float(temp)\n",
    "    except ValueError:\n",
    "        pass\n",
    "    else:\n",
    "        if len(temp) == 3:\n",
    "            rating.append(float(temp))"
   ]
  },
  {
   "cell_type": "code",
   "execution_count": 6,
   "metadata": {},
   "outputs": [
    {
     "data": {
      "text/plain": [
       "['2605', '2528', '2606', '4427', '16575', '4597']"
      ]
     },
     "execution_count": 6,
     "metadata": {},
     "output_type": "execute_result"
    }
   ],
   "source": [
    "votes"
   ]
  },
  {
   "cell_type": "code",
   "execution_count": 7,
   "metadata": {},
   "outputs": [],
   "source": [
    "date_requested = datetime.now().strftime('%y-%m-%d %H_%M%p')\n",
    "n = len(episodes) - len(votes)\n",
    "\n",
    "df = pd.DataFrame({'dates': date_requested,\n",
    "                   'episodes': episodes,\n",
    "                   'votes': votes + [0]*n,\n",
    "                   'rating': rating + [0]*n})"
   ]
  },
  {
   "cell_type": "code",
   "execution_count": 8,
   "metadata": {},
   "outputs": [],
   "source": [
    "df.to_csv(date_requested + ' imdb.csv', index=False)"
   ]
  },
  {
   "cell_type": "code",
   "execution_count": null,
   "metadata": {},
   "outputs": [],
   "source": []
  }
 ],
 "metadata": {
  "kernelspec": {
   "display_name": "Python 3",
   "language": "python",
   "name": "python3"
  },
  "language_info": {
   "codemirror_mode": {
    "name": "ipython",
    "version": 3
   },
   "file_extension": ".py",
   "mimetype": "text/x-python",
   "name": "python",
   "nbconvert_exporter": "python",
   "pygments_lexer": "ipython3",
   "version": "3.7.3"
  }
 },
 "nbformat": 4,
 "nbformat_minor": 2
}
